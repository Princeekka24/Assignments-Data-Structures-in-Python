{
 "cells": [
  {
   "cell_type": "markdown",
   "id": "acb5ebd9-efc6-4a07-9475-ea3579114a5d",
   "metadata": {},
   "source": [
    "# 1. Reverse a string"
   ]
  },
  {
   "cell_type": "code",
   "execution_count": 1,
   "id": "9d7ba0ad-863b-4ac2-8031-4f7b96436a03",
   "metadata": {},
   "outputs": [
    {
     "name": "stdout",
     "output_type": "stream",
     "text": [
      "olleh\n"
     ]
    }
   ],
   "source": [
    "def reverse_string(s):\n",
    "    return s[::-1]\n",
    "\n",
    "print(reverse_string(\"hello\"))  "
   ]
  },
  {
   "cell_type": "markdown",
   "id": "0134de42-acfa-4201-99f6-c520faade359",
   "metadata": {},
   "source": [
    "# 2. Count the number of vowels in a string"
   ]
  },
  {
   "cell_type": "code",
   "execution_count": 36,
   "id": "9efb253d-caa5-488f-a4e5-525193443c16",
   "metadata": {},
   "outputs": [
    {
     "name": "stdout",
     "output_type": "stream",
     "text": [
      "3\n"
     ]
    }
   ],
   "source": [
    "def count_vowels(s):\n",
    "    vowels = \"aeiouAEIOU\"\n",
    "    return sum(1 for char in s if char in vowels)\n",
    "\n",
    "print(count_vowels(\"hello world\"))  "
   ]
  },
  {
   "cell_type": "markdown",
   "id": "4446c679-988d-49c0-8fcd-d51d5f9c5ffc",
   "metadata": {},
   "source": [
    "# 3. Check if a given string is a palindrome"
   ]
  },
  {
   "cell_type": "code",
   "execution_count": 3,
   "id": "3a0e310c-2464-4a1d-bf8f-6b27351596f8",
   "metadata": {},
   "outputs": [
    {
     "name": "stdout",
     "output_type": "stream",
     "text": [
      "True\n",
      "False\n"
     ]
    }
   ],
   "source": [
    "def is_palindrome(s):\n",
    "    return s == s[::-1]\n",
    "\n",
    "print(is_palindrome(\"madam\"))  \n",
    "print(is_palindrome(\"hello\"))  "
   ]
  },
  {
   "cell_type": "markdown",
   "id": "eef7036f-b6ea-4e87-a6de-ac277ce5da00",
   "metadata": {},
   "source": [
    "# 4. Check if two given strings are anagrams of each other"
   ]
  },
  {
   "cell_type": "code",
   "execution_count": 4,
   "id": "6927eb5b-28f8-4998-8687-9dd2ee109897",
   "metadata": {},
   "outputs": [
    {
     "name": "stdout",
     "output_type": "stream",
     "text": [
      "True\n",
      "False\n"
     ]
    }
   ],
   "source": [
    "def are_anagrams(str1, str2):\n",
    "    return sorted(str1) == sorted(str2)\n",
    "\n",
    "print(are_anagrams(\"listen\", \"silent\"))  \n",
    "print(are_anagrams(\"hello\", \"world\"))    "
   ]
  },
  {
   "cell_type": "markdown",
   "id": "4a8f748a-4e63-4183-bd14-3eaeec8a941c",
   "metadata": {},
   "source": [
    "# 5. Find all occurrences of a given substring within another string"
   ]
  },
  {
   "cell_type": "code",
   "execution_count": 6,
   "id": "92abf3b9-102e-4154-b9a9-fc2d687c9c91",
   "metadata": {},
   "outputs": [
    {
     "name": "stdout",
     "output_type": "stream",
     "text": [
      "[1, 3]\n"
     ]
    }
   ],
   "source": [
    "def find_all_occurrences(main_str, sub_str):\n",
    "    return [i for i in range(len(main_str)) if main_str.startswith(sub_str, i)]\n",
    "\n",
    "print(find_all_occurrences(\"banana\", \"an\"))  "
   ]
  },
  {
   "cell_type": "markdown",
   "id": "f2a06cbc-2611-4b4e-b919-4c50061baef1",
   "metadata": {},
   "source": [
    "# 6. Perform basic string compression using the counts of repeated characters"
   ]
  },
  {
   "cell_type": "code",
   "execution_count": 5,
   "id": "dc46a7f7-fe98-4c55-81dd-35435b65d382",
   "metadata": {},
   "outputs": [
    {
     "name": "stdout",
     "output_type": "stream",
     "text": [
      "a3b2c2\n"
     ]
    }
   ],
   "source": [
    "def compress_string(s):\n",
    "    compressed = []\n",
    "    count = 1\n",
    "    for i in range(1, len(s)):\n",
    "        if s[i] == s[i - 1]:\n",
    "            count += 1\n",
    "        else:\n",
    "            compressed.append(f\"{s[i - 1]}{count}\")\n",
    "            count = 1\n",
    "    compressed.append(f\"{s[-1]}{count}\")\n",
    "    return ''.join(compressed)\n",
    "\n",
    "print(compress_string(\"aaabbcc\"))  "
   ]
  },
  {
   "cell_type": "markdown",
   "id": "c072041f-6ee9-44bd-a179-64f029c052b0",
   "metadata": {},
   "source": [
    "# 7. Determine if a string has all unique characters"
   ]
  },
  {
   "cell_type": "code",
   "execution_count": 37,
   "id": "05dda55b-dbd9-4e83-a39d-fb87718bda69",
   "metadata": {},
   "outputs": [
    {
     "name": "stdout",
     "output_type": "stream",
     "text": [
      "True\n",
      "False\n"
     ]
    }
   ],
   "source": [
    "def has_unique_chars(s):\n",
    "    return len(s) == len(set(s))\n",
    "\n",
    "print(has_unique_chars(\"abcdef\"))  \n",
    "print(has_unique_chars(\"abcdea\"))  "
   ]
  },
  {
   "cell_type": "markdown",
   "id": "216b3b8f-c01d-476f-9569-b45428d4770f",
   "metadata": {},
   "source": [
    "# 8. Convert a given string to uppercase or lowercase"
   ]
  },
  {
   "cell_type": "code",
   "execution_count": 38,
   "id": "103e4e24-8472-43ba-9654-b5de950294d4",
   "metadata": {},
   "outputs": [
    {
     "name": "stdout",
     "output_type": "stream",
     "text": [
      "HELLO\n",
      "hello\n"
     ]
    }
   ],
   "source": [
    "def to_upper(s):\n",
    "    return s.upper()\n",
    "\n",
    "def to_lower(s):\n",
    "    return s.lower()\n",
    "\n",
    "print(to_upper(\"hello\")) \n",
    "print(to_lower(\"HELLO\"))  "
   ]
  },
  {
   "cell_type": "markdown",
   "id": "b338b836-c78d-481f-8f5d-598d67f6987a",
   "metadata": {},
   "source": [
    "# 9. Count the number of words in a string"
   ]
  },
  {
   "cell_type": "code",
   "execution_count": 7,
   "id": "24ea7048-a47c-47ac-a519-80406ba704b1",
   "metadata": {},
   "outputs": [
    {
     "name": "stdout",
     "output_type": "stream",
     "text": [
      "4\n"
     ]
    }
   ],
   "source": [
    "def count_words(s):\n",
    "    return len(s.split())\n",
    "\n",
    "print(count_words(\"This is a test\"))  "
   ]
  },
  {
   "cell_type": "markdown",
   "id": "59715b4f-1c45-467e-8bbd-b6a861861d29",
   "metadata": {},
   "source": [
    "# 10. Concatenate two strings without using the + operator"
   ]
  },
  {
   "cell_type": "code",
   "execution_count": 8,
   "id": "992615a2-6332-4e71-a51b-c79b9009a80e",
   "metadata": {},
   "outputs": [
    {
     "name": "stdout",
     "output_type": "stream",
     "text": [
      "helloworld\n"
     ]
    }
   ],
   "source": [
    "def concatenate_strings(s1, s2):\n",
    "    return ''.join([s1, s2])\n",
    "\n",
    "print(concatenate_strings(\"hello\", \"world\"))  "
   ]
  },
  {
   "cell_type": "markdown",
   "id": "a8a06c6b-e5ed-4284-882b-538ff136a118",
   "metadata": {},
   "source": [
    "# 11. Remove all occurrences of a specific element from a list"
   ]
  },
  {
   "cell_type": "code",
   "execution_count": 9,
   "id": "68eaf665-5cd5-440c-9326-9ba5c0877696",
   "metadata": {},
   "outputs": [
    {
     "name": "stdout",
     "output_type": "stream",
     "text": [
      "[1, 3, 4]\n"
     ]
    }
   ],
   "source": [
    "def remove_all_occurrences(lst, element):\n",
    "    return [x for x in lst if x != element]\n",
    "\n",
    "print(remove_all_occurrences([1, 2, 2, 3, 4], 2)) "
   ]
  },
  {
   "cell_type": "markdown",
   "id": "de3c1590-e972-44b0-9ef3-7f6b01a9ae19",
   "metadata": {},
   "source": [
    "# 12. Find the second largest number in a given list of integers"
   ]
  },
  {
   "cell_type": "code",
   "execution_count": 10,
   "id": "9e0fd3b6-f9e6-424b-9115-8074913679a6",
   "metadata": {},
   "outputs": [
    {
     "name": "stdout",
     "output_type": "stream",
     "text": [
      "45\n"
     ]
    }
   ],
   "source": [
    "def second_largest(lst):\n",
    "    unique_lst = list(set(lst))\n",
    "    unique_lst.sort()\n",
    "    return unique_lst[-2] if len(unique_lst) >= 2 else None\n",
    "\n",
    "print(second_largest([10, 20, 4, 45, 99]))  "
   ]
  },
  {
   "cell_type": "markdown",
   "id": "04f7c4a4-5cb5-494b-9044-268044717ff2",
   "metadata": {},
   "source": [
    "# 13. Count the occurrences of each element in a list and return a dictionary"
   ]
  },
  {
   "cell_type": "code",
   "execution_count": 39,
   "id": "ce224105-afb4-4352-888a-b59b4ef776bf",
   "metadata": {},
   "outputs": [
    {
     "name": "stdout",
     "output_type": "stream",
     "text": [
      "{1: 1, 2: 2, 3: 3}\n"
     ]
    }
   ],
   "source": [
    "def count_occurrences(lst):\n",
    "    return {x: lst.count(x) for x in set(lst)}\n",
    "\n",
    "print(count_occurrences([1, 2, 2, 3, 3, 3])) "
   ]
  },
  {
   "cell_type": "markdown",
   "id": "e04b563c-fdef-4791-b298-bc7ed4ddd53b",
   "metadata": {},
   "source": [
    "# 14. Reverse a list in-place without using a built-in reverse function"
   ]
  },
  {
   "cell_type": "code",
   "execution_count": 11,
   "id": "da5a1254-dca9-497e-9149-3f2feffccf6b",
   "metadata": {},
   "outputs": [
    {
     "name": "stdout",
     "output_type": "stream",
     "text": [
      "[5, 4, 3, 2, 1]\n"
     ]
    }
   ],
   "source": [
    "def reverse_list(lst):\n",
    "    left, right = 0, len(lst) - 1\n",
    "    while left < right:\n",
    "        lst[left], lst[right] = lst[right], lst[left]\n",
    "        left += 1\n",
    "        right -= 1\n",
    "\n",
    "lst = [1, 2, 3, 4, 5]\n",
    "reverse_list(lst)\n",
    "print(lst)  "
   ]
  },
  {
   "cell_type": "markdown",
   "id": "ee398041-5fa6-4ab1-8d5d-48781129210f",
   "metadata": {},
   "source": [
    "# 15. Find and remove duplicates from a list while preserving the original order"
   ]
  },
  {
   "cell_type": "code",
   "execution_count": 12,
   "id": "9968f79b-f69e-4ffd-b741-fd497772e238",
   "metadata": {},
   "outputs": [
    {
     "name": "stdout",
     "output_type": "stream",
     "text": [
      "[1, 2, 3, 4]\n"
     ]
    }
   ],
   "source": [
    "def remove_duplicates(lst):\n",
    "    seen = set()\n",
    "    result = []\n",
    "    for item in lst:\n",
    "        if item not in seen:\n",
    "            result.append(item)\n",
    "            seen.add(item)\n",
    "    return result\n",
    "print(remove_duplicates([1, 2, 2, 3, 4, 3])) "
   ]
  },
  {
   "cell_type": "markdown",
   "id": "0fa70287-c90f-4a2d-b995-7806d5f807d3",
   "metadata": {},
   "source": [
    "# 16. Check if a given list is sorted (either in ascending or descending order)"
   ]
  },
  {
   "cell_type": "code",
   "execution_count": 15,
   "id": "29e8950b-29cc-4ef0-96ef-8521ead1a465",
   "metadata": {},
   "outputs": [
    {
     "name": "stdout",
     "output_type": "stream",
     "text": [
      "True\n",
      "True\n",
      "False\n"
     ]
    }
   ],
   "source": [
    "def is_sorted(lst):\n",
    "    return lst == sorted(lst) or lst == sorted(lst, reverse=True)\n",
    "\n",
    "print(is_sorted([1, 2, 3]))  \n",
    "print(is_sorted([3, 2, 1]))  \n",
    "print(is_sorted([1, 3, 2]))  "
   ]
  },
  {
   "cell_type": "markdown",
   "id": "16398c36-f20a-48ba-a363-20cc93ed7694",
   "metadata": {},
   "source": [
    "# 17. Merge two sorted lists into a single sorted list"
   ]
  },
  {
   "cell_type": "code",
   "execution_count": 16,
   "id": "6faeeabc-c0a6-4d7b-add1-3e7d2fb5f59a",
   "metadata": {},
   "outputs": [
    {
     "name": "stdout",
     "output_type": "stream",
     "text": [
      "[1, 2, 3, 4, 5, 6]\n"
     ]
    }
   ],
   "source": [
    "def merge_sorted_lists(lst1, lst2):\n",
    "    return sorted(lst1 + lst2)\n",
    "\n",
    "print(merge_sorted_lists([1, 3, 5], [2, 4, 6]))  "
   ]
  },
  {
   "cell_type": "markdown",
   "id": "c6520c04-2b05-46a6-820c-8efb0c56c9d6",
   "metadata": {},
   "source": [
    "# 18. Find the intersection of two given lists"
   ]
  },
  {
   "cell_type": "code",
   "execution_count": 17,
   "id": "30bbb348-fb68-456b-9f97-c49d6b94bc27",
   "metadata": {},
   "outputs": [
    {
     "name": "stdout",
     "output_type": "stream",
     "text": [
      "[2, 3]\n"
     ]
    }
   ],
   "source": [
    "def intersection(lst1, lst2):\n",
    "    return list(set(lst1) & set(lst2))\n",
    "\n",
    "print(intersection([1, 2, 3], [2, 3, 4])) "
   ]
  },
  {
   "cell_type": "markdown",
   "id": "18753ec8-f143-461b-8f92-d1f73f5ab3db",
   "metadata": {},
   "source": [
    "# 19. Find the union of two lists without duplicates"
   ]
  },
  {
   "cell_type": "code",
   "execution_count": 18,
   "id": "a3085673-24b4-47bd-bb61-fd4329fc001a",
   "metadata": {},
   "outputs": [
    {
     "name": "stdout",
     "output_type": "stream",
     "text": [
      "[1, 2, 3, 4]\n"
     ]
    }
   ],
   "source": [
    "def union(lst1, lst2):\n",
    "    return list(set(lst1) | set(lst2))\n",
    "\n",
    "print(union([1, 2, 3], [2, 3, 4]))  "
   ]
  },
  {
   "cell_type": "markdown",
   "id": "2259a7aa-362b-46db-a7ac-aa9998f2208a",
   "metadata": {},
   "source": [
    "# 20. Shuffle a given list randomly without using any built-in shuffle function"
   ]
  },
  {
   "cell_type": "code",
   "execution_count": 13,
   "id": "463716d1-d474-435c-b5b3-3c50543f816e",
   "metadata": {},
   "outputs": [
    {
     "name": "stdout",
     "output_type": "stream",
     "text": [
      "[1, 2, 5, 3, 4]\n"
     ]
    }
   ],
   "source": [
    "import random\n",
    "\n",
    "def custom_shuffle(lst):\n",
    "    for i in range(len(lst) - 1, 0, -1):\n",
    "        j = random.randint(0, i)\n",
    "        lst[i], lst[j] = lst[j], lst[i]\n",
    "\n",
    "lst = [1, 2, 3, 4, 5]\n",
    "custom_shuffle(lst)\n",
    "print(lst)"
   ]
  },
  {
   "cell_type": "markdown",
   "id": "db263f39-41b1-4112-ad6b-2b6cc2aa9702",
   "metadata": {},
   "source": [
    "# 21. Code to take two tuples as input and return a new tuple containing elements common to both tuples"
   ]
  },
  {
   "cell_type": "code",
   "execution_count": 19,
   "id": "ba290d22-df58-4b77-86f0-954aeb50c616",
   "metadata": {},
   "outputs": [
    {
     "name": "stdout",
     "output_type": "stream",
     "text": [
      "(2, 3)\n"
     ]
    }
   ],
   "source": [
    "def common_elements_tuple(tup1, tup2):\n",
    "    return tuple(set(tup1) & set(tup2))\n",
    "\n",
    "print(common_elements_tuple((1, 2, 3), (2, 3, 4))) "
   ]
  },
  {
   "cell_type": "markdown",
   "id": "ed14a75b-4957-45c8-92b2-3b5624b5ae97",
   "metadata": {},
   "source": [
    "# 22. Prompt the user to enter two sets of integers separated by commas, then print the intersection of these sets"
   ]
  },
  {
   "cell_type": "code",
   "execution_count": null,
   "id": "e8fe3eb4-302a-45e1-a870-bca36b4ffd14",
   "metadata": {},
   "outputs": [],
   "source": [
    "def intersection_of_sets():\n",
    "    set1 = set(map(int, input(\"Enter the first set of integers (comma-separated): \").split(',')))\n",
    "    set2 = set(map(int, input(\"Enter the second set of integers (comma-separated): \").split(',')))\n",
    "    return set1 & set2\n",
    "\n",
    "print(intersection_of_sets())"
   ]
  },
  {
   "cell_type": "markdown",
   "id": "05a796a2-991a-4e7e-84fc-5957cf4bc0a5",
   "metadata": {},
   "source": [
    "# 23. Concatenate two tuples and return a new tuple containing elements from both input tuples"
   ]
  },
  {
   "cell_type": "code",
   "execution_count": 22,
   "id": "97de663d-38eb-4946-a52b-064c63e7f2d6",
   "metadata": {},
   "outputs": [
    {
     "name": "stdout",
     "output_type": "stream",
     "text": [
      "(1, 2, 3, 4, 5)\n"
     ]
    }
   ],
   "source": [
    "def concatenate_tuples(tup1, tup2):\n",
    "    return tup1 + tup2\n",
    "\n",
    "print(concatenate_tuples((1, 2, 3), (4, 5))) "
   ]
  },
  {
   "cell_type": "markdown",
   "id": "66973b30-8be9-4471-9216-81df8c73e17d",
   "metadata": {},
   "source": [
    "# 24. Prompt the user to input two sets of strings and print elements present in the first set but not in the second"
   ]
  },
  {
   "cell_type": "code",
   "execution_count": 53,
   "id": "f7f8c2aa-7579-40fc-96e3-304f65d4c478",
   "metadata": {},
   "outputs": [
    {
     "ename": "KeyboardInterrupt",
     "evalue": "Interrupted by user",
     "output_type": "error",
     "traceback": [
      "\u001b[0;31m---------------------------------------------------------------------------\u001b[0m",
      "\u001b[0;31mKeyboardInterrupt\u001b[0m                         Traceback (most recent call last)",
      "Cell \u001b[0;32mIn[53], line 6\u001b[0m\n\u001b[1;32m      3\u001b[0m     set2 \u001b[38;5;241m=\u001b[39m \u001b[38;5;28mset\u001b[39m(\u001b[38;5;28minput\u001b[39m(\u001b[38;5;124m\"\u001b[39m\u001b[38;5;124mEnter the second set of strings (comma-separated): \u001b[39m\u001b[38;5;124m\"\u001b[39m)\u001b[38;5;241m.\u001b[39msplit(\u001b[38;5;124m'\u001b[39m\u001b[38;5;124m,\u001b[39m\u001b[38;5;124m'\u001b[39m))\n\u001b[1;32m      4\u001b[0m     \u001b[38;5;28;01mreturn\u001b[39;00m set1 \u001b[38;5;241m-\u001b[39m set2\n\u001b[0;32m----> 6\u001b[0m \u001b[38;5;28mprint\u001b[39m(\u001b[43mdifference_of_sets\u001b[49m\u001b[43m(\u001b[49m\u001b[43m)\u001b[49m)\n",
      "Cell \u001b[0;32mIn[53], line 2\u001b[0m, in \u001b[0;36mdifference_of_sets\u001b[0;34m()\u001b[0m\n\u001b[1;32m      1\u001b[0m \u001b[38;5;28;01mdef\u001b[39;00m \u001b[38;5;21mdifference_of_sets\u001b[39m():\n\u001b[0;32m----> 2\u001b[0m     set1 \u001b[38;5;241m=\u001b[39m \u001b[38;5;28mset\u001b[39m(\u001b[38;5;28;43minput\u001b[39;49m\u001b[43m(\u001b[49m\u001b[38;5;124;43m\"\u001b[39;49m\u001b[38;5;124;43mEnter the first set of strings (comma-separated): \u001b[39;49m\u001b[38;5;124;43m\"\u001b[39;49m\u001b[43m)\u001b[49m\u001b[38;5;241m.\u001b[39msplit(\u001b[38;5;124m'\u001b[39m\u001b[38;5;124m,\u001b[39m\u001b[38;5;124m'\u001b[39m))\n\u001b[1;32m      3\u001b[0m     set2 \u001b[38;5;241m=\u001b[39m \u001b[38;5;28mset\u001b[39m(\u001b[38;5;28minput\u001b[39m(\u001b[38;5;124m\"\u001b[39m\u001b[38;5;124mEnter the second set of strings (comma-separated): \u001b[39m\u001b[38;5;124m\"\u001b[39m)\u001b[38;5;241m.\u001b[39msplit(\u001b[38;5;124m'\u001b[39m\u001b[38;5;124m,\u001b[39m\u001b[38;5;124m'\u001b[39m))\n\u001b[1;32m      4\u001b[0m     \u001b[38;5;28;01mreturn\u001b[39;00m set1 \u001b[38;5;241m-\u001b[39m set2\n",
      "File \u001b[0;32m/opt/conda/lib/python3.10/site-packages/ipykernel/kernelbase.py:1175\u001b[0m, in \u001b[0;36mKernel.raw_input\u001b[0;34m(self, prompt)\u001b[0m\n\u001b[1;32m   1171\u001b[0m \u001b[38;5;28;01mif\u001b[39;00m \u001b[38;5;129;01mnot\u001b[39;00m \u001b[38;5;28mself\u001b[39m\u001b[38;5;241m.\u001b[39m_allow_stdin:\n\u001b[1;32m   1172\u001b[0m     \u001b[38;5;28;01mraise\u001b[39;00m StdinNotImplementedError(\n\u001b[1;32m   1173\u001b[0m         \u001b[38;5;124m\"\u001b[39m\u001b[38;5;124mraw_input was called, but this frontend does not support input requests.\u001b[39m\u001b[38;5;124m\"\u001b[39m\n\u001b[1;32m   1174\u001b[0m     )\n\u001b[0;32m-> 1175\u001b[0m \u001b[38;5;28;01mreturn\u001b[39;00m \u001b[38;5;28;43mself\u001b[39;49m\u001b[38;5;241;43m.\u001b[39;49m\u001b[43m_input_request\u001b[49m\u001b[43m(\u001b[49m\n\u001b[1;32m   1176\u001b[0m \u001b[43m    \u001b[49m\u001b[38;5;28;43mstr\u001b[39;49m\u001b[43m(\u001b[49m\u001b[43mprompt\u001b[49m\u001b[43m)\u001b[49m\u001b[43m,\u001b[49m\n\u001b[1;32m   1177\u001b[0m \u001b[43m    \u001b[49m\u001b[38;5;28;43mself\u001b[39;49m\u001b[38;5;241;43m.\u001b[39;49m\u001b[43m_parent_ident\u001b[49m\u001b[43m[\u001b[49m\u001b[38;5;124;43m\"\u001b[39;49m\u001b[38;5;124;43mshell\u001b[39;49m\u001b[38;5;124;43m\"\u001b[39;49m\u001b[43m]\u001b[49m\u001b[43m,\u001b[49m\n\u001b[1;32m   1178\u001b[0m \u001b[43m    \u001b[49m\u001b[38;5;28;43mself\u001b[39;49m\u001b[38;5;241;43m.\u001b[39;49m\u001b[43mget_parent\u001b[49m\u001b[43m(\u001b[49m\u001b[38;5;124;43m\"\u001b[39;49m\u001b[38;5;124;43mshell\u001b[39;49m\u001b[38;5;124;43m\"\u001b[39;49m\u001b[43m)\u001b[49m\u001b[43m,\u001b[49m\n\u001b[1;32m   1179\u001b[0m \u001b[43m    \u001b[49m\u001b[43mpassword\u001b[49m\u001b[38;5;241;43m=\u001b[39;49m\u001b[38;5;28;43;01mFalse\u001b[39;49;00m\u001b[43m,\u001b[49m\n\u001b[1;32m   1180\u001b[0m \u001b[43m\u001b[49m\u001b[43m)\u001b[49m\n",
      "File \u001b[0;32m/opt/conda/lib/python3.10/site-packages/ipykernel/kernelbase.py:1217\u001b[0m, in \u001b[0;36mKernel._input_request\u001b[0;34m(self, prompt, ident, parent, password)\u001b[0m\n\u001b[1;32m   1214\u001b[0m             \u001b[38;5;28;01mbreak\u001b[39;00m\n\u001b[1;32m   1215\u001b[0m \u001b[38;5;28;01mexcept\u001b[39;00m \u001b[38;5;167;01mKeyboardInterrupt\u001b[39;00m:\n\u001b[1;32m   1216\u001b[0m     \u001b[38;5;66;03m# re-raise KeyboardInterrupt, to truncate traceback\u001b[39;00m\n\u001b[0;32m-> 1217\u001b[0m     \u001b[38;5;28;01mraise\u001b[39;00m \u001b[38;5;167;01mKeyboardInterrupt\u001b[39;00m(\u001b[38;5;124m\"\u001b[39m\u001b[38;5;124mInterrupted by user\u001b[39m\u001b[38;5;124m\"\u001b[39m) \u001b[38;5;28;01mfrom\u001b[39;00m \u001b[38;5;28mNone\u001b[39m\n\u001b[1;32m   1218\u001b[0m \u001b[38;5;28;01mexcept\u001b[39;00m \u001b[38;5;167;01mException\u001b[39;00m:\n\u001b[1;32m   1219\u001b[0m     \u001b[38;5;28mself\u001b[39m\u001b[38;5;241m.\u001b[39mlog\u001b[38;5;241m.\u001b[39mwarning(\u001b[38;5;124m\"\u001b[39m\u001b[38;5;124mInvalid Message:\u001b[39m\u001b[38;5;124m\"\u001b[39m, exc_info\u001b[38;5;241m=\u001b[39m\u001b[38;5;28;01mTrue\u001b[39;00m)\n",
      "\u001b[0;31mKeyboardInterrupt\u001b[0m: Interrupted by user"
     ]
    },
    {
     "name": "stdin",
     "output_type": "stream",
     "text": [
      "Enter the first set of strings (comma-separated):  True\n"
     ]
    }
   ],
   "source": [
    "def difference_of_sets():\n",
    "    set1 = set(input(\"Enter the first set of strings (comma-separated): \").split(','))\n",
    "    set2 = set(input(\"Enter the second set of strings (comma-separated): \").split(','))\n",
    "    return set1 - set2\n",
    "\n",
    "print(difference_of_sets())"
   ]
  },
  {
   "cell_type": "markdown",
   "id": "c5793f15-ad55-4dc9-9578-de486938c5af",
   "metadata": {},
   "source": [
    "# 25. Take a tuple and two integers as input, return a new tuple containing elements within the specified range of indices"
   ]
  },
  {
   "cell_type": "code",
   "execution_count": 25,
   "id": "24b44f88-9af8-46be-853c-1018d7dd6d14",
   "metadata": {},
   "outputs": [
    {
     "name": "stdout",
     "output_type": "stream",
     "text": [
      "(2, 3, 4)\n"
     ]
    }
   ],
   "source": [
    "def slice_tuple(tup, start, end):\n",
    "    return tup[start:end+1]\n",
    "\n",
    "print(slice_tuple((1, 2, 3, 4, 5), 1, 3)) "
   ]
  },
  {
   "cell_type": "markdown",
   "id": "75a99e03-be92-44e1-9003-83c94078e141",
   "metadata": {},
   "source": [
    "# 26. Prompt the user to input two sets of characters, then print the union of these sets"
   ]
  },
  {
   "cell_type": "code",
   "execution_count": 57,
   "id": "80f94457-5768-4e2c-ab3e-0fc91317f5f2",
   "metadata": {},
   "outputs": [
    {
     "ename": "KeyboardInterrupt",
     "evalue": "Interrupted by user",
     "output_type": "error",
     "traceback": [
      "\u001b[0;31m---------------------------------------------------------------------------\u001b[0m",
      "\u001b[0;31mKeyboardInterrupt\u001b[0m                         Traceback (most recent call last)",
      "Cell \u001b[0;32mIn[57], line 6\u001b[0m\n\u001b[1;32m      3\u001b[0m     set2 \u001b[38;5;241m=\u001b[39m \u001b[38;5;28mset\u001b[39m(\u001b[38;5;28minput\u001b[39m(\u001b[38;5;124m\"\u001b[39m\u001b[38;5;124mEnter the second set of characters: \u001b[39m\u001b[38;5;124m\"\u001b[39m)\u001b[38;5;241m.\u001b[39msplit(\u001b[38;5;124m'\u001b[39m\u001b[38;5;124m,\u001b[39m\u001b[38;5;124m'\u001b[39m))\n\u001b[1;32m      4\u001b[0m     \u001b[38;5;28;01mreturn\u001b[39;00m set1 \u001b[38;5;241m|\u001b[39m set2\n\u001b[0;32m----> 6\u001b[0m \u001b[38;5;28mprint\u001b[39m(\u001b[43munion_of_sets\u001b[49m\u001b[43m(\u001b[49m\u001b[43m)\u001b[49m)\n",
      "Cell \u001b[0;32mIn[57], line 3\u001b[0m, in \u001b[0;36munion_of_sets\u001b[0;34m()\u001b[0m\n\u001b[1;32m      1\u001b[0m \u001b[38;5;28;01mdef\u001b[39;00m \u001b[38;5;21munion_of_sets\u001b[39m():\n\u001b[1;32m      2\u001b[0m     set1 \u001b[38;5;241m=\u001b[39m \u001b[38;5;28mset\u001b[39m(\u001b[38;5;28minput\u001b[39m(\u001b[38;5;124m\"\u001b[39m\u001b[38;5;124mEnter the first set of characters: \u001b[39m\u001b[38;5;124m\"\u001b[39m)\u001b[38;5;241m.\u001b[39msplit(\u001b[38;5;124m'\u001b[39m\u001b[38;5;124m,\u001b[39m\u001b[38;5;124m'\u001b[39m))\n\u001b[0;32m----> 3\u001b[0m     set2 \u001b[38;5;241m=\u001b[39m \u001b[38;5;28mset\u001b[39m(\u001b[38;5;28;43minput\u001b[39;49m\u001b[43m(\u001b[49m\u001b[38;5;124;43m\"\u001b[39;49m\u001b[38;5;124;43mEnter the second set of characters: \u001b[39;49m\u001b[38;5;124;43m\"\u001b[39;49m\u001b[43m)\u001b[49m\u001b[38;5;241m.\u001b[39msplit(\u001b[38;5;124m'\u001b[39m\u001b[38;5;124m,\u001b[39m\u001b[38;5;124m'\u001b[39m))\n\u001b[1;32m      4\u001b[0m     \u001b[38;5;28;01mreturn\u001b[39;00m set1 \u001b[38;5;241m|\u001b[39m set2\n",
      "File \u001b[0;32m/opt/conda/lib/python3.10/site-packages/ipykernel/kernelbase.py:1175\u001b[0m, in \u001b[0;36mKernel.raw_input\u001b[0;34m(self, prompt)\u001b[0m\n\u001b[1;32m   1171\u001b[0m \u001b[38;5;28;01mif\u001b[39;00m \u001b[38;5;129;01mnot\u001b[39;00m \u001b[38;5;28mself\u001b[39m\u001b[38;5;241m.\u001b[39m_allow_stdin:\n\u001b[1;32m   1172\u001b[0m     \u001b[38;5;28;01mraise\u001b[39;00m StdinNotImplementedError(\n\u001b[1;32m   1173\u001b[0m         \u001b[38;5;124m\"\u001b[39m\u001b[38;5;124mraw_input was called, but this frontend does not support input requests.\u001b[39m\u001b[38;5;124m\"\u001b[39m\n\u001b[1;32m   1174\u001b[0m     )\n\u001b[0;32m-> 1175\u001b[0m \u001b[38;5;28;01mreturn\u001b[39;00m \u001b[38;5;28;43mself\u001b[39;49m\u001b[38;5;241;43m.\u001b[39;49m\u001b[43m_input_request\u001b[49m\u001b[43m(\u001b[49m\n\u001b[1;32m   1176\u001b[0m \u001b[43m    \u001b[49m\u001b[38;5;28;43mstr\u001b[39;49m\u001b[43m(\u001b[49m\u001b[43mprompt\u001b[49m\u001b[43m)\u001b[49m\u001b[43m,\u001b[49m\n\u001b[1;32m   1177\u001b[0m \u001b[43m    \u001b[49m\u001b[38;5;28;43mself\u001b[39;49m\u001b[38;5;241;43m.\u001b[39;49m\u001b[43m_parent_ident\u001b[49m\u001b[43m[\u001b[49m\u001b[38;5;124;43m\"\u001b[39;49m\u001b[38;5;124;43mshell\u001b[39;49m\u001b[38;5;124;43m\"\u001b[39;49m\u001b[43m]\u001b[49m\u001b[43m,\u001b[49m\n\u001b[1;32m   1178\u001b[0m \u001b[43m    \u001b[49m\u001b[38;5;28;43mself\u001b[39;49m\u001b[38;5;241;43m.\u001b[39;49m\u001b[43mget_parent\u001b[49m\u001b[43m(\u001b[49m\u001b[38;5;124;43m\"\u001b[39;49m\u001b[38;5;124;43mshell\u001b[39;49m\u001b[38;5;124;43m\"\u001b[39;49m\u001b[43m)\u001b[49m\u001b[43m,\u001b[49m\n\u001b[1;32m   1179\u001b[0m \u001b[43m    \u001b[49m\u001b[43mpassword\u001b[49m\u001b[38;5;241;43m=\u001b[39;49m\u001b[38;5;28;43;01mFalse\u001b[39;49;00m\u001b[43m,\u001b[49m\n\u001b[1;32m   1180\u001b[0m \u001b[43m\u001b[49m\u001b[43m)\u001b[49m\n",
      "File \u001b[0;32m/opt/conda/lib/python3.10/site-packages/ipykernel/kernelbase.py:1217\u001b[0m, in \u001b[0;36mKernel._input_request\u001b[0;34m(self, prompt, ident, parent, password)\u001b[0m\n\u001b[1;32m   1214\u001b[0m             \u001b[38;5;28;01mbreak\u001b[39;00m\n\u001b[1;32m   1215\u001b[0m \u001b[38;5;28;01mexcept\u001b[39;00m \u001b[38;5;167;01mKeyboardInterrupt\u001b[39;00m:\n\u001b[1;32m   1216\u001b[0m     \u001b[38;5;66;03m# re-raise KeyboardInterrupt, to truncate traceback\u001b[39;00m\n\u001b[0;32m-> 1217\u001b[0m     \u001b[38;5;28;01mraise\u001b[39;00m \u001b[38;5;167;01mKeyboardInterrupt\u001b[39;00m(\u001b[38;5;124m\"\u001b[39m\u001b[38;5;124mInterrupted by user\u001b[39m\u001b[38;5;124m\"\u001b[39m) \u001b[38;5;28;01mfrom\u001b[39;00m \u001b[38;5;28mNone\u001b[39m\n\u001b[1;32m   1218\u001b[0m \u001b[38;5;28;01mexcept\u001b[39;00m \u001b[38;5;167;01mException\u001b[39;00m:\n\u001b[1;32m   1219\u001b[0m     \u001b[38;5;28mself\u001b[39m\u001b[38;5;241m.\u001b[39mlog\u001b[38;5;241m.\u001b[39mwarning(\u001b[38;5;124m\"\u001b[39m\u001b[38;5;124mInvalid Message:\u001b[39m\u001b[38;5;124m\"\u001b[39m, exc_info\u001b[38;5;241m=\u001b[39m\u001b[38;5;28;01mTrue\u001b[39;00m)\n",
      "\u001b[0;31mKeyboardInterrupt\u001b[0m: Interrupted by user"
     ]
    }
   ],
   "source": [
    "def union_of_sets():\n",
    "    set1 = set(input(\"Enter the first set of characters: \").split(','))\n",
    "    set2 = set(input(\"Enter the second set of characters: \").split(','))\n",
    "    return set1 | set2\n",
    "\n",
    "print(union_of_sets())"
   ]
  },
  {
   "cell_type": "markdown",
   "id": "08c0a51f-ed5c-4a17-bfe5-f410cefc62f6",
   "metadata": {},
   "source": [
    "# 27. Take a tuple of integers as input, return the maximum and minimum values using tuple unpacking"
   ]
  },
  {
   "cell_type": "code",
   "execution_count": 27,
   "id": "dd1ef10f-cb15-415b-ae9a-20541ad274d3",
   "metadata": {},
   "outputs": [
    {
     "name": "stdout",
     "output_type": "stream",
     "text": [
      "(5, 1)\n"
     ]
    }
   ],
   "source": [
    "def max_min_tuple(tup):\n",
    "    return max(tup), min(tup)\n",
    "\n",
    "print(max_min_tuple((1, 2, 3, 4, 5)))  "
   ]
  },
  {
   "cell_type": "markdown",
   "id": "a123a252-496a-481c-ad9f-3dbd9a98f923",
   "metadata": {},
   "source": [
    "# 28. Define two sets of integers, print the union, intersection, and difference of these two sets"
   ]
  },
  {
   "cell_type": "code",
   "execution_count": 28,
   "id": "6df23274-9a43-4df8-bd20-34a24e10a30f",
   "metadata": {},
   "outputs": [
    {
     "name": "stdout",
     "output_type": "stream",
     "text": [
      "({1, 2, 3, 4}, {2, 3}, {1})\n"
     ]
    }
   ],
   "source": [
    "def set_operations(set1, set2):\n",
    "    union_set = set1 | set2\n",
    "    intersection_set = set1 & set2\n",
    "    difference_set = set1 - set2\n",
    "    return union_set, intersection_set, difference_set\n",
    "\n",
    "set1 = {1, 2, 3}\n",
    "set2 = {2, 3, 4}\n",
    "print(set_operations(set1, set2)) "
   ]
  },
  {
   "cell_type": "markdown",
   "id": "4008ee15-724d-40df-ad9f-d78f9027592a",
   "metadata": {},
   "source": [
    "# 29. Take a tuple and an element as input, return the count of occurrences of the given element in the tuple"
   ]
  },
  {
   "cell_type": "code",
   "execution_count": 29,
   "id": "f8a5b86f-8b99-42a9-a4d5-47f4b1cc71d6",
   "metadata": {},
   "outputs": [
    {
     "name": "stdout",
     "output_type": "stream",
     "text": [
      "3\n"
     ]
    }
   ],
   "source": [
    "def count_occurrences_in_tuple(tup, elem):\n",
    "    return tup.count(elem)\n",
    "\n",
    "print(count_occurrences_in_tuple((1, 2, 3, 2, 2), 2))  "
   ]
  },
  {
   "cell_type": "markdown",
   "id": "8f3a3358-683a-47dd-b847-3a178742532f",
   "metadata": {},
   "source": [
    "# 30. Prompt the user to input two sets of strings, then print the symmetric difference of these two sets"
   ]
  },
  {
   "cell_type": "code",
   "execution_count": 45,
   "id": "2c238e7b-ebce-4adc-ad1c-97342d6f8da8",
   "metadata": {},
   "outputs": [
    {
     "name": "stdout",
     "output_type": "stream",
     "text": [
      "{'false', ' true'}\n"
     ]
    }
   ],
   "source": [
    "def symmetric_difference_of_sets():\n",
    "    set1 = set(input(\"Enter the first set of strings (comma-separated): \").split(','))\n",
    "    set2 = set(input(\"Enter the second set of strings (comma-separated): \").split(','))\n",
    "    return set1 ^ set2\n",
    "\n",
    "print(symmetric_difference_of_sets())"
   ]
  },
  {
   "cell_type": "markdown",
   "id": "2fea4e28-32d0-4355-b1d9-208c4900fba9",
   "metadata": {},
   "source": [
    "# 31. Take a list of words as input and return a dictionary where the keys are unique words and the values are their frequencies"
   ]
  },
  {
   "cell_type": "code",
   "execution_count": 31,
   "id": "aaeff20e-dfc0-49bf-b89d-96cbe1ff86e7",
   "metadata": {},
   "outputs": [
    {
     "name": "stdout",
     "output_type": "stream",
     "text": [
      "{'apple': 2, 'orange': 1, 'banana': 3}\n"
     ]
    }
   ],
   "source": [
    "def word_frequencies(words):\n",
    "    return {word: words.count(word) for word in set(words)}\n",
    "\n",
    "words_list = [\"apple\", \"banana\", \"apple\", \"orange\", \"banana\", \"banana\"]\n",
    "print(word_frequencies(words_list)) "
   ]
  },
  {
   "cell_type": "markdown",
   "id": "b984a1c2-b5c0-47df-95e4-ae94e3fb63c6",
   "metadata": {},
   "source": [
    "# 32. Take two dictionaries as input and merge them into a single dictionary. If there are common keys, add the values together"
   ]
  },
  {
   "cell_type": "code",
   "execution_count": 32,
   "id": "335945fe-8187-461b-ad82-fd14954c69df",
   "metadata": {},
   "outputs": [
    {
     "name": "stdout",
     "output_type": "stream",
     "text": [
      "{'a': 1, 'b': 5, 'c': 4}\n"
     ]
    }
   ],
   "source": [
    "def merge_dictionaries(dict1, dict2):\n",
    "    merged_dict = dict1.copy()\n",
    "    for key, value in dict2.items():\n",
    "        merged_dict[key] = merged_dict.get(key, 0) + value\n",
    "    return merged_dict\n",
    "\n",
    "dict1 = {'a': 1, 'b': 2}\n",
    "dict2 = {'b': 3, 'c': 4}\n",
    "print(merge_dictionaries(dict1, dict2)) "
   ]
  },
  {
   "cell_type": "markdown",
   "id": "157d87d6-ee5c-4658-80d3-21f157e16a85",
   "metadata": {},
   "source": [
    "# 33. Access a value in a nested dictionary. If a key does not exist, return None"
   ]
  },
  {
   "cell_type": "code",
   "execution_count": 33,
   "id": "68c99580-e78c-4e2f-bf73-7aa640c2cce5",
   "metadata": {},
   "outputs": [
    {
     "name": "stdout",
     "output_type": "stream",
     "text": [
      "10\n"
     ]
    }
   ],
   "source": [
    "def access_nested_value(d, keys):\n",
    "    for key in keys:\n",
    "        d = d.get(key, None)\n",
    "        if d is None:\n",
    "            return None\n",
    "    return d\n",
    "\n",
    "nested_dict = {'a': {'b': {'c': 10}}}\n",
    "keys = ['a', 'b', 'c']\n",
    "print(access_nested_value(nested_dict, keys)) "
   ]
  },
  {
   "cell_type": "markdown",
   "id": "64fb531e-f793-431b-8761-8c5ea0156147",
   "metadata": {},
   "source": [
    "# 34. Sort a dictionary by its values in ascending or descending order"
   ]
  },
  {
   "cell_type": "code",
   "execution_count": 34,
   "id": "ca329a5a-87cd-4203-a2e3-0e0b559d2c3f",
   "metadata": {},
   "outputs": [
    {
     "name": "stdout",
     "output_type": "stream",
     "text": [
      "{'b': 1, 'c': 2, 'a': 3}\n",
      "{'a': 3, 'c': 2, 'b': 1}\n"
     ]
    }
   ],
   "source": [
    "def sort_dict_by_values(d, reverse=False):\n",
    "    return dict(sorted(d.items(), key=lambda item: item[1], reverse=reverse))\n",
    "\n",
    "d = {'a': 3, 'b': 1, 'c': 2}\n",
    "print(sort_dict_by_values(d)) \n",
    "print(sort_dict_by_values(d, reverse=True))  "
   ]
  },
  {
   "cell_type": "markdown",
   "id": "def4774f-9bac-4178-8bf7-6e0ab7f7c872",
   "metadata": {},
   "source": [
    "# 35. Invert a dictionary, swapping keys and values. If multiple keys have the same value, store the keys as a list"
   ]
  },
  {
   "cell_type": "code",
   "execution_count": 35,
   "id": "1557869c-fe01-4b84-a435-78819ca91029",
   "metadata": {},
   "outputs": [
    {
     "name": "stdout",
     "output_type": "stream",
     "text": [
      "{1: ['a', 'c'], 2: 'b'}\n"
     ]
    }
   ],
   "source": [
    "def invert_dict(d):\n",
    "    inverted = {}\n",
    "    for key, value in d.items():\n",
    "        if value in inverted:\n",
    "            if isinstance(inverted[value], list):\n",
    "                inverted[value].append(key)\n",
    "            else:\n",
    "                inverted[value] = [inverted[value], key]\n",
    "        else:\n",
    "            inverted[value] = key\n",
    "    return inverted\n",
    "\n",
    "d = {'a': 1, 'b': 2, 'c': 1}\n",
    "print(invert_dict(d))  "
   ]
  },
  {
   "cell_type": "code",
   "execution_count": null,
   "id": "fb8d415f-cc40-4920-91d1-61493210a2a3",
   "metadata": {},
   "outputs": [],
   "source": []
  }
 ],
 "metadata": {
  "kernelspec": {
   "display_name": "Python 3 (ipykernel)",
   "language": "python",
   "name": "python3"
  },
  "language_info": {
   "codemirror_mode": {
    "name": "ipython",
    "version": 3
   },
   "file_extension": ".py",
   "mimetype": "text/x-python",
   "name": "python",
   "nbconvert_exporter": "python",
   "pygments_lexer": "ipython3",
   "version": "3.10.8"
  }
 },
 "nbformat": 4,
 "nbformat_minor": 5
}
